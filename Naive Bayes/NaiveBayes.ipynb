{
 "cells": [
  {
   "cell_type": "code",
   "execution_count": 67,
   "metadata": {},
   "outputs": [],
   "source": [
    "from math import sqrt\n",
    "from random import seed\n",
    "from csv import reader\n",
    "from random import randrange\n",
    "from math import pi\n",
    "from math import exp\n",
    "from ast import If"
   ]
  },
  {
   "cell_type": "code",
   "execution_count": 68,
   "metadata": {},
   "outputs": [],
   "source": [
    "def loadCsv(filename):\n",
    "    bayesdata = list()\n",
    "    with open(filename, 'r') as file:\n",
    "        read = reader(file)\n",
    "        for row in read:\n",
    "            if not row:\n",
    "                continue\n",
    "            bayesdata.append(row)\n",
    "    return bayesdata"
   ]
  },
  {
   "cell_type": "code",
   "execution_count": 69,
   "metadata": {},
   "outputs": [],
   "source": [
    "# Splitting Data Using K-Folds for test and train\n",
    "def crossvsplit(bayesdata, dataFolds):\n",
    "    bayesdataSplit = list()\n",
    "    bayesdataCopy = list(bayesdata)\n",
    "    foldSize = int(len(bayesdata) / dataFolds)\n",
    "    for _ in range(dataFolds):\n",
    "        fold = list()\n",
    "        while len(fold) < foldSize:\n",
    "            index = randrange(len(bayesdataCopy))\n",
    "            fold.append(bayesdataCopy.pop(index))\n",
    "        bayesdataSplit.append(fold)\n",
    "    return bayesdataSplit"
   ]
  },
  {
   "cell_type": "code",
   "execution_count": 70,
   "metadata": {},
   "outputs": [],
   "source": [
    "# We are iterating through data and returning value of float\n",
    "def strFloat(bayesdata, column):\n",
    "    for row in bayesdata:\n",
    "        row[column] = float(row[column].strip())\n",
    "\n",
    "\n",
    "# We are iterating through data and returning value of int\n",
    "def strInt(bayesdata, column):\n",
    "    classValues = [row[column] for row in bayesdata]\n",
    "    unique = set(classValues)\n",
    "    lookup = dict()\n",
    "    for i, value in enumerate(unique):\n",
    "        lookup[value] = i\n",
    "    for row in bayesdata:\n",
    "        row[column] = lookup[row[column]]\n",
    "    return lookup\n"
   ]
  },
  {
   "cell_type": "code",
   "execution_count": 71,
   "metadata": {},
   "outputs": [],
   "source": [
    "def evalAlgo(bayesdata, algorithm, dataFolds, *args):\n",
    "    folds = crossvsplit(bayesdata, dataFolds)\n",
    "    scores = list()\n",
    "    for fold in folds:\n",
    "        trainSet = list(folds)\n",
    "        trainSet.remove(fold)\n",
    "        trainSet = sum(trainSet, [])\n",
    "        testSet = list()\n",
    "        for row in fold:\n",
    "            rcp = list(row)\n",
    "            testSet.append(rcp)\n",
    "            rcp[-1] = None\n",
    "        predicted = algorithm(trainSet, testSet, *args)\n",
    "        actual = [row[-1] for row in fold]\n",
    "        accuracy = accuracyValue(actual, predicted)\n",
    "        scores.append(accuracy)\n",
    "    return scores"
   ]
  },
  {
   "cell_type": "code",
   "execution_count": 72,
   "metadata": {},
   "outputs": [],
   "source": [
    "def accuracyValue(actual, predicted):\n",
    "    crct = 0\n",
    "    for i in range(len(actual)):\n",
    "        if actual[i] == predicted[i]:\n",
    "            crct += 1\n",
    "    return crct / float(len(actual)) * 100.0\n",
    "\n",
    "def seperateByclass(bayesdata):\n",
    "    separated = dict()\n",
    "    for i in range(len(bayesdata)):\n",
    "        vector = bayesdata[i]\n",
    "        clsValue = vector[-1]\n",
    "        if (clsValue not in separated):\n",
    "            separated[clsValue] = list()\n",
    "        separated[clsValue].append(vector)\n",
    "    return separated"
   ]
  },
  {
   "cell_type": "code",
   "execution_count": 73,
   "metadata": {},
   "outputs": [],
   "source": [
    "def mean(numbers):\n",
    "    return sum(numbers)/float(len(numbers))\n",
    "\n",
    "\n",
    "# Calculating Standard Deviation\n",
    "def stDev(numbers):\n",
    "    avg = mean(numbers)\n",
    "    variance = sum([(x-avg)**2 for x in numbers]) / float(len(numbers)-1)\n",
    "    return sqrt(variance)"
   ]
  },
  {
   "cell_type": "code",
   "execution_count": 74,
   "metadata": {},
   "outputs": [],
   "source": [
    "\n",
    "def summarizeBayes(bayesdata):\n",
    "    summaries = [(mean(column), stDev(column), len(column))\n",
    "                 for column in zip(*bayesdata)]\n",
    "    del (summaries[-1])\n",
    "    return summaries\n",
    "\n",
    "\n",
    "def summarizeClass(bayesdata):\n",
    "    separated = seperateByclass(bayesdata)\n",
    "    summaries = dict()\n",
    "    for clsValue, rows in separated.items():\n",
    "        summaries[clsValue] = summarizeBayes(rows)\n",
    "    return summaries"
   ]
  },
  {
   "cell_type": "code",
   "execution_count": 75,
   "metadata": {},
   "outputs": [],
   "source": [
    "# Calculating Probability Using Gaussian Distribution.\n",
    "def probaCalc(x, mean, stDev):\n",
    "    exponent = exp(-((x-mean)**2 / (2 * stDev**2)))\n",
    "    return (1 / (sqrt(2 * pi) * stDev)) * exponent\n",
    "\n",
    "\n",
    "def calcClsProb(summaries, row):\n",
    "    trows = sum([summaries[label][0][2] for label in summaries])\n",
    "    probaility = dict()\n",
    "    for clsValue, clsSumm in summaries.items():\n",
    "        probaility[clsValue] = summaries[clsValue][0][2]/float(trows)\n",
    "        for i in range(len(clsSumm)):\n",
    "            mean, stDev, _ = clsSumm[i]\n",
    "            probaility[clsValue] *= probaCalc(row[i], mean, stDev)\n",
    "    return probaility"
   ]
  },
  {
   "cell_type": "code",
   "execution_count": 76,
   "metadata": {},
   "outputs": [],
   "source": [
    "def predict(summaries, row):\n",
    "    probaility = calcClsProb(summaries, row)\n",
    "    bstLable, bstProb = None, -1\n",
    "    for clsValue, probability in probaility.items():\n",
    "        if bstLable is None or probability > bstProb:\n",
    "            bstProb = probability\n",
    "            bstLable = clsValue\n",
    "    return bstLable\n",
    "\n",
    "# Naive Bayes Algorithm\n",
    "def naiveBayes(train, test):\n",
    "    summarize = summarizeClass(train)\n",
    "    predictions = list()\n",
    "    for row in test:\n",
    "        output = predict(summarize, row)\n",
    "        predictions.append(output)\n",
    "    return (predictions)"
   ]
  },
  {
   "cell_type": "code",
   "execution_count": 77,
   "metadata": {},
   "outputs": [
    {
     "name": "stdout",
     "output_type": "stream",
     "text": [
      "_____________________________________________________________________________________________\n",
      "\n",
      "The following is the accuracy of the predections on heart dataset\n",
      "Accuracy: 82.52%\n",
      "_____________________________________________________________________________________________\n"
     ]
    }
   ],
   "source": [
    "filename = 'heart.csv'\n",
    "bayesdata = loadCsv(filename)\n",
    "for i in range(len(bayesdata[0])-1):\n",
    "    strFloat(bayesdata, i)\n",
    "strInt(bayesdata, len(bayesdata[0])-1)\n",
    "dataFolds = 4\n",
    "scores = evalAlgo(bayesdata, naiveBayes, dataFolds)\n",
    "print(\"_____________________________________________________________________________________________\")\n",
    "print(\"\")\n",
    "print(\"The following is the accuracy of the predections on heart dataset\")\n",
    "print('Accuracy: %.2f%%' % (sum(scores)/float(len(scores))))\n",
    "print(\"_____________________________________________________________________________________________\")"
   ]
  }
 ],
 "metadata": {
  "kernelspec": {
   "display_name": "Python 3.10.4 64-bit",
   "language": "python",
   "name": "python3"
  },
  "language_info": {
   "codemirror_mode": {
    "name": "ipython",
    "version": 3
   },
   "file_extension": ".py",
   "mimetype": "text/x-python",
   "name": "python",
   "nbconvert_exporter": "python",
   "pygments_lexer": "ipython3",
   "version": "3.10.4"
  },
  "orig_nbformat": 4,
  "vscode": {
   "interpreter": {
    "hash": "38d8b76dd9bb16b2003496ba2054ca0b13db4a2840f2780af0801b842aa80e98"
   }
  }
 },
 "nbformat": 4,
 "nbformat_minor": 2
}
